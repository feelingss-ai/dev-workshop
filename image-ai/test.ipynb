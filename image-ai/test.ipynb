{
 "cells": [
  {
   "cell_type": "code",
   "execution_count": null,
   "metadata": {},
   "outputs": [],
   "source": [
    "import numpy as np\n",
    "import tensorflow as tf\n",
    "from model import model, IMG_SIZE\n",
    "import os\n",
    "from PIL import Image\n",
    "\n",
    "model.load_weights('model.tf')\n",
    "model.summary()\n",
    "\n",
    "# print(model.get_weights())\n"
   ]
  },
  {
   "cell_type": "code",
   "execution_count": null,
   "metadata": {},
   "outputs": [],
   "source": [
    "img = Image.open('sample/cat.0.jpg').resize(IMG_SIZE)\n",
    "img = np.array(img)\n",
    "model.predict(img[None,:,:])\n"
   ]
  },
  {
   "cell_type": "code",
   "execution_count": null,
   "metadata": {},
   "outputs": [],
   "source": [
    "img = Image.open('sample/cat.1.jpg').resize(IMG_SIZE)\n",
    "img = np.array(img)\n",
    "model.predict(img[None,:,:])\n"
   ]
  },
  {
   "cell_type": "code",
   "execution_count": null,
   "metadata": {},
   "outputs": [],
   "source": [
    "img = Image.open('sample/dog.0.jpg').resize(IMG_SIZE)\n",
    "img = np.array(img)\n",
    "model.predict(img[None,:,:])\n"
   ]
  },
  {
   "cell_type": "code",
   "execution_count": null,
   "metadata": {},
   "outputs": [],
   "source": [
    "img = Image.open('sample/dog.1.jpg').resize(IMG_SIZE)\n",
    "img = np.array(img)\n",
    "y = model.predict(img[None,:,:])\n"
   ]
  },
  {
   "cell_type": "code",
   "execution_count": null,
   "metadata": {},
   "outputs": [],
   "source": [
    "y[0][0]\n"
   ]
  }
 ],
 "metadata": {
  "kernelspec": {
   "display_name": "Python 3",
   "language": "python",
   "name": "python3"
  },
  "language_info": {
   "codemirror_mode": {
    "name": "ipython",
    "version": 3
   },
   "file_extension": ".py",
   "mimetype": "text/x-python",
   "name": "python",
   "nbconvert_exporter": "python",
   "pygments_lexer": "ipython3",
   "version": "3.11.7"
  }
 },
 "nbformat": 4,
 "nbformat_minor": 2
}
